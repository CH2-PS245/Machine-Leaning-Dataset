{
  "cells": [
    {
      "cell_type": "code",
      "execution_count": 1,
      "metadata": {
        "colab": {
          "base_uri": "https://localhost:8080/"
        },
        "id": "9SNrwD7Y6iD9",
        "outputId": "3cfa41e2-488d-4702-bac4-af2dc34da333"
      },
      "outputs": [
        {
          "name": "stdout",
          "output_type": "stream",
          "text": [
            "Reading package lists... Done\n",
            "Building dependency tree... Done\n",
            "Reading state information... Done\n",
            "git is already the newest version (1:2.34.1-1ubuntu1.10).\n",
            "0 upgraded, 0 newly installed, 0 to remove and 24 not upgraded.\n"
          ]
        }
      ],
      "source": [
        "! apt-get install git"
      ]
    },
    {
      "cell_type": "code",
      "execution_count": 2,
      "metadata": {
        "colab": {
          "base_uri": "https://localhost:8080/"
        },
        "id": "ldHVcxKA7Qiy",
        "outputId": "f46704bb-2728-413a-cf43-a281d412f42f"
      },
      "outputs": [
        {
          "name": "stdout",
          "output_type": "stream",
          "text": [
            "Cloning into 'DishDash'...\n",
            "remote: Enumerating objects: 261, done.\u001b[K\n",
            "remote: Counting objects: 100% (56/56), done.\u001b[K\n",
            "remote: Compressing objects: 100% (48/48), done.\u001b[K\n",
            "remote: Total 261 (delta 21), reused 5 (delta 3), pack-reused 205\u001b[K\n",
            "Receiving objects: 100% (261/261), 8.43 MiB | 3.93 MiB/s, done.\n",
            "Resolving deltas: 100% (80/80), done.\n",
            "Updating files: 100% (124/124), done.\n"
          ]
        }
      ],
      "source": [
        "!git clone https://github.com/ArkZ10/DishDash.git"
      ]
    },
    {
      "cell_type": "markdown",
      "metadata": {
        "id": "ctcFtCkrwAwb"
      },
      "source": [
        "### Making Data"
      ]
    },
    {
      "cell_type": "code",
      "execution_count": null,
      "metadata": {
        "id": "o6FrYyK07Uqz"
      },
      "outputs": [],
      "source": [
        "import pandas as pd\n",
        "\n",
        "group = pd.read_csv('/content/DishDash/ML/food-data/Group.csv', sep=';', header=[1])"
      ]
    },
    {
      "cell_type": "code",
      "execution_count": null,
      "metadata": {
        "colab": {
          "base_uri": "https://localhost:8080/"
        },
        "id": "lAHkkthf7geE",
        "outputId": "441d00b3-79be-406b-df7d-3a5e28d3d476"
      },
      "outputs": [
        {
          "data": {
            "text/plain": [
              "(998, 43)"
            ]
          },
          "execution_count": 4,
          "metadata": {},
          "output_type": "execute_result"
        }
      ],
      "source": [
        "group.shape"
      ]
    },
    {
      "cell_type": "code",
      "execution_count": null,
      "metadata": {
        "colab": {
          "base_uri": "https://localhost:8080/"
        },
        "id": "K-VMLdZ48EgH",
        "outputId": "87405c24-3f11-410b-aad6-d701fcde0eb7"
      },
      "outputs": [
        {
          "data": {
            "text/plain": [
              "0      69-447\n",
              "1      69-775\n",
              "2     69-1309\n",
              "3     69-1310\n",
              "4     69-1311\n",
              "5     69-1312\n",
              "6     69-1315\n",
              "7     69-1317\n",
              "8     69-1321\n",
              "9     69-1502\n",
              "10    69-1580\n",
              "11      70-25\n",
              "12     70-239\n",
              "13     70-240\n",
              "14     70-775\n",
              "15    70-1309\n",
              "16    70-1312\n",
              "17    70-1314\n",
              "18    70-1315\n",
              "19    70-1318\n",
              "20    70-1322\n",
              "21    70-1502\n",
              "22     75-239\n",
              "23     79-446\n",
              "24     81-781\n",
              "25     82-781\n",
              "26      86-41\n",
              "Name: SAYUR 1, dtype: object"
            ]
          },
          "execution_count": 5,
          "metadata": {},
          "output_type": "execute_result"
        }
      ],
      "source": [
        "group.iloc[:, 4].dropna()"
      ]
    },
    {
      "cell_type": "code",
      "execution_count": null,
      "metadata": {
        "id": "2TWB-c6l8-dq"
      },
      "outputs": [],
      "source": [
        "group_label = group.columns"
      ]
    },
    {
      "cell_type": "code",
      "execution_count": null,
      "metadata": {
        "id": "oUzZX8pZzqTh"
      },
      "outputs": [],
      "source": [
        "import random\n",
        "import pandas as pd\n",
        "\n",
        "def assign_labels_with_random_columns(data):\n",
        "    num_users = 1250\n",
        "    num_labels = len(data.columns)\n",
        "\n",
        "    user_labels = {}\n",
        "\n",
        "    for user_id in range(1, num_users + 1):\n",
        "        ratio_a = 0.2\n",
        "\n",
        "        num_labels_a = int(ratio_a * num_labels)\n",
        "\n",
        "        # Ensure all columns are considered\n",
        "        labels_a = [random.sample(data.columns.tolist(), num_labels)[i % num_labels] for i in range(num_labels_a)]\n",
        "\n",
        "        user_labels[user_id] = {'A': labels_a}\n",
        "\n",
        "    return user_labels"
      ]
    },
    {
      "cell_type": "code",
      "execution_count": null,
      "metadata": {
        "id": "XuxhRqM8tkk6"
      },
      "outputs": [],
      "source": [
        "num_users = 1250\n",
        "user_labels = assign_labels_with_random_columns(group)\n",
        "\n",
        "user_outputs = {}\n",
        "for user_id, labels in user_labels.items():\n",
        "    user_outputs[f\"user_{user_id}\"] = pd.DataFrame({\n",
        "        f\"{user_id}\": labels['A'],\n",
        "    })\n",
        "\n",
        "# Concatenate the DataFrames\n",
        "result_df = pd.concat([user_outputs[f\"user_{i}\"] for i in range(1, num_users + 1)], axis=1)\n",
        "\n",
        "# Save the result to a CSV file\n",
        "result_df.to_csv(\"Random_Group.csv\", index_label=\"User_ID\")\n",
        "result_df.to_excel(\"Random_Group.xlsx\", index_label=\"User_ID\")\n",
        "\n"
      ]
    },
    {
      "cell_type": "code",
      "execution_count": null,
      "metadata": {
        "id": "ZsPpKxBnx7lg"
      },
      "outputs": [],
      "source": [
        "rand_df = pd.read_csv('/content/Random_Group.csv')"
      ]
    },
    {
      "cell_type": "code",
      "execution_count": null,
      "metadata": {
        "colab": {
          "base_uri": "https://localhost:8080/"
        },
        "id": "65wiuxdrtTXT",
        "outputId": "dfcfd68e-0a3d-4a6e-a95a-816037fe3796"
      },
      "outputs": [
        {
          "data": {
            "text/plain": [
              "(8, 1251)"
            ]
          },
          "execution_count": 10,
          "metadata": {},
          "output_type": "execute_result"
        }
      ],
      "source": [
        "rand_df.shape"
      ]
    },
    {
      "cell_type": "code",
      "execution_count": null,
      "metadata": {
        "colab": {
          "base_uri": "https://localhost:8080/",
          "height": 35
        },
        "id": "MG1wolbQy15-",
        "outputId": "36a01153-82bd-496c-b47b-3d169d6ac12f"
      },
      "outputs": [
        {
          "data": {
            "application/vnd.google.colaboratory.intrinsic+json": {
              "type": "string"
            },
            "text/plain": [
              "'Jagung'"
            ]
          },
          "execution_count": 11,
          "metadata": {},
          "output_type": "execute_result"
        }
      ],
      "source": [
        "rand_df['1'][0]"
      ]
    },
    {
      "cell_type": "code",
      "execution_count": null,
      "metadata": {
        "colab": {
          "base_uri": "https://localhost:8080/"
        },
        "id": "kGjVgQgOytSb",
        "outputId": "e78a313c-5c2f-4829-8c5b-ef67f36be910"
      },
      "outputs": [
        {
          "data": {
            "text/plain": [
              "14"
            ]
          },
          "execution_count": 12,
          "metadata": {},
          "output_type": "execute_result"
        }
      ],
      "source": [
        "len(group[rand_df['1'][0]].dropna())"
      ]
    },
    {
      "cell_type": "code",
      "execution_count": null,
      "metadata": {
        "id": "3GWOV40z1aER"
      },
      "outputs": [],
      "source": [
        "num_rows_to_select = int(len(group[rand_df['3'][0]].dropna()) * 0.3)\n",
        "\n",
        "random_sample = group[rand_df['3'][0]].dropna().sample(n=num_rows_to_select)"
      ]
    },
    {
      "cell_type": "code",
      "execution_count": null,
      "metadata": {
        "colab": {
          "base_uri": "https://localhost:8080/"
        },
        "id": "gqrmtU7gzN9a",
        "outputId": "57799cbb-a1b0-48f7-ae4b-51e302f1cddb"
      },
      "outputs": [
        {
          "data": {
            "text/plain": [
              "88"
            ]
          },
          "execution_count": 14,
          "metadata": {},
          "output_type": "execute_result"
        }
      ],
      "source": [
        "len(group[rand_df['3'][0]].dropna())"
      ]
    },
    {
      "cell_type": "code",
      "execution_count": null,
      "metadata": {
        "id": "4yA7HMr63KqC"
      },
      "outputs": [],
      "source": [
        "def find_food(user, label):\n",
        "  num_rows_to_select = int(len(group[rand_df[f'{user}'][label]].dropna()) * 0.3)\n",
        "  random_sample = group[rand_df[f'{user}'][label]].dropna().sample(n=num_rows_to_select)\n",
        "  return random_sample"
      ]
    },
    {
      "cell_type": "code",
      "execution_count": null,
      "metadata": {
        "colab": {
          "base_uri": "https://localhost:8080/"
        },
        "id": "SDm6kOHZ4Nuz",
        "outputId": "d78226d5-2b3a-4d8e-de7d-140bae5ee5c6"
      },
      "outputs": [],
      "source": [
        "result_df = pd.DataFrame()\n",
        "\n",
        "for user in range(1, 1251):\n",
        "    user_column = pd.concat([find_food(user, label) for label in range(0, 8)], axis=0, ignore_index=True)\n",
        "\n",
        "    result_df[f'{user}'] = user_column\n",
        "\n",
        "result_df.to_csv(\"Random_Food.csv\", index_label=\"Row_ID\")\n",
        "result_df.to_excel(\"Random_Food.xlsx\", index_label=\"Row_ID\")"
      ]
    },
    {
      "cell_type": "markdown",
      "metadata": {
        "id": "obOMHAAvKr90"
      },
      "source": [
        "### ONE HOT ENCODE"
      ]
    },
    {
      "cell_type": "code",
      "execution_count": 3,
      "metadata": {
        "id": "6fOk_2YOMD99"
      },
      "outputs": [],
      "source": [
        "import pandas as pd\n",
        "import numpy as np\n",
        "import tensorflow as tf\n",
        "from sklearn.model_selection import train_test_split\n",
        "from sklearn.preprocessing import LabelEncoder\n",
        "from sklearn.metrics.pairwise import cosine_similarity"
      ]
    },
    {
      "cell_type": "code",
      "execution_count": 4,
      "metadata": {
        "id": "DdOtZ4184VmT"
      },
      "outputs": [],
      "source": [
        "df = pd.read_csv('/content/DishDash/ML/food-data/data_1d.csv', sep=';', header=[1])"
      ]
    },
    {
      "cell_type": "code",
      "execution_count": 5,
      "metadata": {
        "id": "KSeWrFxJL3Uf"
      },
      "outputs": [],
      "source": [
        "df.drop(df.columns[0:2], axis=1, inplace=True)"
      ]
    },
    {
      "cell_type": "code",
      "execution_count": 6,
      "metadata": {
        "id": "tEbVQuapMb3W"
      },
      "outputs": [],
      "source": [
        "df.drop(df.columns[3], axis=1, inplace=True)"
      ]
    },
    {
      "cell_type": "code",
      "execution_count": 7,
      "metadata": {
        "id": "EexfSZ2DYmsz"
      },
      "outputs": [],
      "source": [
        "df.rename(\n",
        "    columns={\n",
        "        'ID' : 'food_id',\n",
        "        'MAKANN' : 'food_name',\n",
        "        'TEMPAT': 'resto_name'\n",
        "    }, inplace=True\n",
        ")"
      ]
    },
    {
      "cell_type": "code",
      "execution_count": 8,
      "metadata": {
        "id": "eFMwfVwHMk1Y"
      },
      "outputs": [],
      "source": [
        "like_df = pd.read_csv('/content/DishDash/ML/user-data/like_data.csv', sep=';')"
      ]
    },
    {
      "cell_type": "code",
      "execution_count": 9,
      "metadata": {
        "id": "oYsIDpxYXrO3"
      },
      "outputs": [],
      "source": [
        "like_with_food = like_df.merge(df, on='food_id')"
      ]
    },
    {
      "cell_type": "code",
      "execution_count": 10,
      "metadata": {
        "id": "65p3VXwbcoh7"
      },
      "outputs": [],
      "source": [
        "like_with_food.drop(like_with_food.columns[3:], axis=1, inplace=True)"
      ]
    },
    {
      "cell_type": "code",
      "execution_count": 11,
      "metadata": {
        "colab": {
          "base_uri": "https://localhost:8080/",
          "height": 423
        },
        "id": "Q_fIgwGJ7WGC",
        "outputId": "8128ed93-1be7-49ec-a1a2-4ecc2ddb9179"
      },
      "outputs": [
        {
          "data": {
            "text/html": [
              "\n",
              "  <div id=\"df-15c5337b-d651-4628-ade5-d90287f5937b\" class=\"colab-df-container\">\n",
              "    <div>\n",
              "<style scoped>\n",
              "    .dataframe tbody tr th:only-of-type {\n",
              "        vertical-align: middle;\n",
              "    }\n",
              "\n",
              "    .dataframe tbody tr th {\n",
              "        vertical-align: top;\n",
              "    }\n",
              "\n",
              "    .dataframe thead th {\n",
              "        text-align: right;\n",
              "    }\n",
              "</style>\n",
              "<table border=\"1\" class=\"dataframe\">\n",
              "  <thead>\n",
              "    <tr style=\"text-align: right;\">\n",
              "      <th></th>\n",
              "      <th>user_id</th>\n",
              "      <th>food_id</th>\n",
              "      <th>like</th>\n",
              "    </tr>\n",
              "  </thead>\n",
              "  <tbody>\n",
              "    <tr>\n",
              "      <th>0</th>\n",
              "      <td>102</td>\n",
              "      <td>01-1164</td>\n",
              "      <td>1</td>\n",
              "    </tr>\n",
              "    <tr>\n",
              "      <th>1</th>\n",
              "      <td>1045</td>\n",
              "      <td>01-1164</td>\n",
              "      <td>1</td>\n",
              "    </tr>\n",
              "    <tr>\n",
              "      <th>2</th>\n",
              "      <td>1049</td>\n",
              "      <td>01-1164</td>\n",
              "      <td>1</td>\n",
              "    </tr>\n",
              "    <tr>\n",
              "      <th>3</th>\n",
              "      <td>1051</td>\n",
              "      <td>01-1164</td>\n",
              "      <td>1</td>\n",
              "    </tr>\n",
              "    <tr>\n",
              "      <th>4</th>\n",
              "      <td>1056</td>\n",
              "      <td>01-1164</td>\n",
              "      <td>1</td>\n",
              "    </tr>\n",
              "    <tr>\n",
              "      <th>...</th>\n",
              "      <td>...</td>\n",
              "      <td>...</td>\n",
              "      <td>...</td>\n",
              "    </tr>\n",
              "    <tr>\n",
              "      <th>92700</th>\n",
              "      <td>887</td>\n",
              "      <td>96-67</td>\n",
              "      <td>1</td>\n",
              "    </tr>\n",
              "    <tr>\n",
              "      <th>92701</th>\n",
              "      <td>893</td>\n",
              "      <td>96-67</td>\n",
              "      <td>1</td>\n",
              "    </tr>\n",
              "    <tr>\n",
              "      <th>92702</th>\n",
              "      <td>903</td>\n",
              "      <td>96-67</td>\n",
              "      <td>1</td>\n",
              "    </tr>\n",
              "    <tr>\n",
              "      <th>92703</th>\n",
              "      <td>917</td>\n",
              "      <td>96-67</td>\n",
              "      <td>1</td>\n",
              "    </tr>\n",
              "    <tr>\n",
              "      <th>92704</th>\n",
              "      <td>917</td>\n",
              "      <td>96-67</td>\n",
              "      <td>1</td>\n",
              "    </tr>\n",
              "  </tbody>\n",
              "</table>\n",
              "<p>92705 rows × 3 columns</p>\n",
              "</div>\n",
              "    <div class=\"colab-df-buttons\">\n",
              "\n",
              "  <div class=\"colab-df-container\">\n",
              "    <button class=\"colab-df-convert\" onclick=\"convertToInteractive('df-15c5337b-d651-4628-ade5-d90287f5937b')\"\n",
              "            title=\"Convert this dataframe to an interactive table.\"\n",
              "            style=\"display:none;\">\n",
              "\n",
              "  <svg xmlns=\"http://www.w3.org/2000/svg\" height=\"24px\" viewBox=\"0 -960 960 960\">\n",
              "    <path d=\"M120-120v-720h720v720H120Zm60-500h600v-160H180v160Zm220 220h160v-160H400v160Zm0 220h160v-160H400v160ZM180-400h160v-160H180v160Zm440 0h160v-160H620v160ZM180-180h160v-160H180v160Zm440 0h160v-160H620v160Z\"/>\n",
              "  </svg>\n",
              "    </button>\n",
              "\n",
              "  <style>\n",
              "    .colab-df-container {\n",
              "      display:flex;\n",
              "      gap: 12px;\n",
              "    }\n",
              "\n",
              "    .colab-df-convert {\n",
              "      background-color: #E8F0FE;\n",
              "      border: none;\n",
              "      border-radius: 50%;\n",
              "      cursor: pointer;\n",
              "      display: none;\n",
              "      fill: #1967D2;\n",
              "      height: 32px;\n",
              "      padding: 0 0 0 0;\n",
              "      width: 32px;\n",
              "    }\n",
              "\n",
              "    .colab-df-convert:hover {\n",
              "      background-color: #E2EBFA;\n",
              "      box-shadow: 0px 1px 2px rgba(60, 64, 67, 0.3), 0px 1px 3px 1px rgba(60, 64, 67, 0.15);\n",
              "      fill: #174EA6;\n",
              "    }\n",
              "\n",
              "    .colab-df-buttons div {\n",
              "      margin-bottom: 4px;\n",
              "    }\n",
              "\n",
              "    [theme=dark] .colab-df-convert {\n",
              "      background-color: #3B4455;\n",
              "      fill: #D2E3FC;\n",
              "    }\n",
              "\n",
              "    [theme=dark] .colab-df-convert:hover {\n",
              "      background-color: #434B5C;\n",
              "      box-shadow: 0px 1px 3px 1px rgba(0, 0, 0, 0.15);\n",
              "      filter: drop-shadow(0px 1px 2px rgba(0, 0, 0, 0.3));\n",
              "      fill: #FFFFFF;\n",
              "    }\n",
              "  </style>\n",
              "\n",
              "    <script>\n",
              "      const buttonEl =\n",
              "        document.querySelector('#df-15c5337b-d651-4628-ade5-d90287f5937b button.colab-df-convert');\n",
              "      buttonEl.style.display =\n",
              "        google.colab.kernel.accessAllowed ? 'block' : 'none';\n",
              "\n",
              "      async function convertToInteractive(key) {\n",
              "        const element = document.querySelector('#df-15c5337b-d651-4628-ade5-d90287f5937b');\n",
              "        const dataTable =\n",
              "          await google.colab.kernel.invokeFunction('convertToInteractive',\n",
              "                                                    [key], {});\n",
              "        if (!dataTable) return;\n",
              "\n",
              "        const docLinkHtml = 'Like what you see? Visit the ' +\n",
              "          '<a target=\"_blank\" href=https://colab.research.google.com/notebooks/data_table.ipynb>data table notebook</a>'\n",
              "          + ' to learn more about interactive tables.';\n",
              "        element.innerHTML = '';\n",
              "        dataTable['output_type'] = 'display_data';\n",
              "        await google.colab.output.renderOutput(dataTable, element);\n",
              "        const docLink = document.createElement('div');\n",
              "        docLink.innerHTML = docLinkHtml;\n",
              "        element.appendChild(docLink);\n",
              "      }\n",
              "    </script>\n",
              "  </div>\n",
              "\n",
              "\n",
              "<div id=\"df-0391cff8-e595-4858-aa8e-921289a54b57\">\n",
              "  <button class=\"colab-df-quickchart\" onclick=\"quickchart('df-0391cff8-e595-4858-aa8e-921289a54b57')\"\n",
              "            title=\"Suggest charts\"\n",
              "            style=\"display:none;\">\n",
              "\n",
              "<svg xmlns=\"http://www.w3.org/2000/svg\" height=\"24px\"viewBox=\"0 0 24 24\"\n",
              "     width=\"24px\">\n",
              "    <g>\n",
              "        <path d=\"M19 3H5c-1.1 0-2 .9-2 2v14c0 1.1.9 2 2 2h14c1.1 0 2-.9 2-2V5c0-1.1-.9-2-2-2zM9 17H7v-7h2v7zm4 0h-2V7h2v10zm4 0h-2v-4h2v4z\"/>\n",
              "    </g>\n",
              "</svg>\n",
              "  </button>\n",
              "\n",
              "<style>\n",
              "  .colab-df-quickchart {\n",
              "      --bg-color: #E8F0FE;\n",
              "      --fill-color: #1967D2;\n",
              "      --hover-bg-color: #E2EBFA;\n",
              "      --hover-fill-color: #174EA6;\n",
              "      --disabled-fill-color: #AAA;\n",
              "      --disabled-bg-color: #DDD;\n",
              "  }\n",
              "\n",
              "  [theme=dark] .colab-df-quickchart {\n",
              "      --bg-color: #3B4455;\n",
              "      --fill-color: #D2E3FC;\n",
              "      --hover-bg-color: #434B5C;\n",
              "      --hover-fill-color: #FFFFFF;\n",
              "      --disabled-bg-color: #3B4455;\n",
              "      --disabled-fill-color: #666;\n",
              "  }\n",
              "\n",
              "  .colab-df-quickchart {\n",
              "    background-color: var(--bg-color);\n",
              "    border: none;\n",
              "    border-radius: 50%;\n",
              "    cursor: pointer;\n",
              "    display: none;\n",
              "    fill: var(--fill-color);\n",
              "    height: 32px;\n",
              "    padding: 0;\n",
              "    width: 32px;\n",
              "  }\n",
              "\n",
              "  .colab-df-quickchart:hover {\n",
              "    background-color: var(--hover-bg-color);\n",
              "    box-shadow: 0 1px 2px rgba(60, 64, 67, 0.3), 0 1px 3px 1px rgba(60, 64, 67, 0.15);\n",
              "    fill: var(--button-hover-fill-color);\n",
              "  }\n",
              "\n",
              "  .colab-df-quickchart-complete:disabled,\n",
              "  .colab-df-quickchart-complete:disabled:hover {\n",
              "    background-color: var(--disabled-bg-color);\n",
              "    fill: var(--disabled-fill-color);\n",
              "    box-shadow: none;\n",
              "  }\n",
              "\n",
              "  .colab-df-spinner {\n",
              "    border: 2px solid var(--fill-color);\n",
              "    border-color: transparent;\n",
              "    border-bottom-color: var(--fill-color);\n",
              "    animation:\n",
              "      spin 1s steps(1) infinite;\n",
              "  }\n",
              "\n",
              "  @keyframes spin {\n",
              "    0% {\n",
              "      border-color: transparent;\n",
              "      border-bottom-color: var(--fill-color);\n",
              "      border-left-color: var(--fill-color);\n",
              "    }\n",
              "    20% {\n",
              "      border-color: transparent;\n",
              "      border-left-color: var(--fill-color);\n",
              "      border-top-color: var(--fill-color);\n",
              "    }\n",
              "    30% {\n",
              "      border-color: transparent;\n",
              "      border-left-color: var(--fill-color);\n",
              "      border-top-color: var(--fill-color);\n",
              "      border-right-color: var(--fill-color);\n",
              "    }\n",
              "    40% {\n",
              "      border-color: transparent;\n",
              "      border-right-color: var(--fill-color);\n",
              "      border-top-color: var(--fill-color);\n",
              "    }\n",
              "    60% {\n",
              "      border-color: transparent;\n",
              "      border-right-color: var(--fill-color);\n",
              "    }\n",
              "    80% {\n",
              "      border-color: transparent;\n",
              "      border-right-color: var(--fill-color);\n",
              "      border-bottom-color: var(--fill-color);\n",
              "    }\n",
              "    90% {\n",
              "      border-color: transparent;\n",
              "      border-bottom-color: var(--fill-color);\n",
              "    }\n",
              "  }\n",
              "</style>\n",
              "\n",
              "  <script>\n",
              "    async function quickchart(key) {\n",
              "      const quickchartButtonEl =\n",
              "        document.querySelector('#' + key + ' button');\n",
              "      quickchartButtonEl.disabled = true;  // To prevent multiple clicks.\n",
              "      quickchartButtonEl.classList.add('colab-df-spinner');\n",
              "      try {\n",
              "        const charts = await google.colab.kernel.invokeFunction(\n",
              "            'suggestCharts', [key], {});\n",
              "      } catch (error) {\n",
              "        console.error('Error during call to suggestCharts:', error);\n",
              "      }\n",
              "      quickchartButtonEl.classList.remove('colab-df-spinner');\n",
              "      quickchartButtonEl.classList.add('colab-df-quickchart-complete');\n",
              "    }\n",
              "    (() => {\n",
              "      let quickchartButtonEl =\n",
              "        document.querySelector('#df-0391cff8-e595-4858-aa8e-921289a54b57 button');\n",
              "      quickchartButtonEl.style.display =\n",
              "        google.colab.kernel.accessAllowed ? 'block' : 'none';\n",
              "    })();\n",
              "  </script>\n",
              "</div>\n",
              "    </div>\n",
              "  </div>\n"
            ],
            "text/plain": [
              "       user_id  food_id  like\n",
              "0          102  01-1164     1\n",
              "1         1045  01-1164     1\n",
              "2         1049  01-1164     1\n",
              "3         1051  01-1164     1\n",
              "4         1056  01-1164     1\n",
              "...        ...      ...   ...\n",
              "92700      887    96-67     1\n",
              "92701      893    96-67     1\n",
              "92702      903    96-67     1\n",
              "92703      917    96-67     1\n",
              "92704      917    96-67     1\n",
              "\n",
              "[92705 rows x 3 columns]"
            ]
          },
          "execution_count": 11,
          "metadata": {},
          "output_type": "execute_result"
        }
      ],
      "source": [
        "like_with_food"
      ]
    },
    {
      "cell_type": "markdown",
      "metadata": {
        "id": "CjcTLRMjfoku"
      },
      "source": [
        "### MERGING"
      ]
    },
    {
      "cell_type": "code",
      "execution_count": 14,
      "metadata": {
        "id": "XfmfTz9ceqng"
      },
      "outputs": [],
      "source": [
        "food_id_data = df['food_id']\n",
        "food_id_df = pd.DataFrame(food_id_data)\n",
        "\n",
        "like_data = like_with_food\n",
        "like_data_df = pd.DataFrame(like_data)\n",
        "\n",
        "all_combinations_df = pd.DataFrame([(user_id, food_id) for user_id in like_data_df['user_id'].unique() for food_id in food_id_df['food_id']], columns=['user_id', 'food_id'])\n",
        "\n",
        "merged_df = pd.merge(all_combinations_df, like_data_df, on=['user_id', 'food_id'], how='left')\n",
        "merged_df['like'] = merged_df['like'].fillna(0).astype(int)"
      ]
    },
    {
      "cell_type": "code",
      "execution_count": 15,
      "metadata": {
        "id": "6aFUuO3ef43e"
      },
      "outputs": [],
      "source": [
        "food_like = merged_df.merge(df, on='food_id')"
      ]
    },
    {
      "cell_type": "code",
      "execution_count": 16,
      "metadata": {
        "colab": {
          "base_uri": "https://localhost:8080/",
          "height": 423
        },
        "id": "jUAgnj-y7ELc",
        "outputId": "82552820-b3a4-41e4-8c9d-ac8324b2119d"
      },
      "outputs": [
        {
          "data": {
            "text/html": [
              "\n",
              "  <div id=\"df-2290cab4-03dc-48f3-8dc8-86a60a9c4c9d\" class=\"colab-df-container\">\n",
              "    <div>\n",
              "<style scoped>\n",
              "    .dataframe tbody tr th:only-of-type {\n",
              "        vertical-align: middle;\n",
              "    }\n",
              "\n",
              "    .dataframe tbody tr th {\n",
              "        vertical-align: top;\n",
              "    }\n",
              "\n",
              "    .dataframe thead th {\n",
              "        text-align: right;\n",
              "    }\n",
              "</style>\n",
              "<table border=\"1\" class=\"dataframe\">\n",
              "  <thead>\n",
              "    <tr style=\"text-align: right;\">\n",
              "      <th></th>\n",
              "      <th>user_id</th>\n",
              "      <th>food_id</th>\n",
              "      <th>like</th>\n",
              "      <th>food_name</th>\n",
              "      <th>resto_name</th>\n",
              "    </tr>\n",
              "  </thead>\n",
              "  <tbody>\n",
              "    <tr>\n",
              "      <th>0</th>\n",
              "      <td>102</td>\n",
              "      <td>01-42</td>\n",
              "      <td>1</td>\n",
              "      <td>Ayam</td>\n",
              "      <td>Tukang Ayam</td>\n",
              "    </tr>\n",
              "    <tr>\n",
              "      <th>1</th>\n",
              "      <td>1045</td>\n",
              "      <td>01-42</td>\n",
              "      <td>0</td>\n",
              "      <td>Ayam</td>\n",
              "      <td>Tukang Ayam</td>\n",
              "    </tr>\n",
              "    <tr>\n",
              "      <th>2</th>\n",
              "      <td>1049</td>\n",
              "      <td>01-42</td>\n",
              "      <td>1</td>\n",
              "      <td>Ayam</td>\n",
              "      <td>Tukang Ayam</td>\n",
              "    </tr>\n",
              "    <tr>\n",
              "      <th>3</th>\n",
              "      <td>1051</td>\n",
              "      <td>01-42</td>\n",
              "      <td>0</td>\n",
              "      <td>Ayam</td>\n",
              "      <td>Tukang Ayam</td>\n",
              "    </tr>\n",
              "    <tr>\n",
              "      <th>4</th>\n",
              "      <td>1056</td>\n",
              "      <td>01-42</td>\n",
              "      <td>0</td>\n",
              "      <td>Ayam</td>\n",
              "      <td>Tukang Ayam</td>\n",
              "    </tr>\n",
              "    <tr>\n",
              "      <th>...</th>\n",
              "      <td>...</td>\n",
              "      <td>...</td>\n",
              "      <td>...</td>\n",
              "      <td>...</td>\n",
              "      <td>...</td>\n",
              "    </tr>\n",
              "    <tr>\n",
              "      <th>4183129</th>\n",
              "      <td>1184</td>\n",
              "      <td>96-1565</td>\n",
              "      <td>0</td>\n",
              "      <td>Tongseng</td>\n",
              "      <td>Dialoogi</td>\n",
              "    </tr>\n",
              "    <tr>\n",
              "      <th>4183130</th>\n",
              "      <td>188</td>\n",
              "      <td>96-1565</td>\n",
              "      <td>0</td>\n",
              "      <td>Tongseng</td>\n",
              "      <td>Dialoogi</td>\n",
              "    </tr>\n",
              "    <tr>\n",
              "      <th>4183131</th>\n",
              "      <td>52</td>\n",
              "      <td>96-1565</td>\n",
              "      <td>0</td>\n",
              "      <td>Tongseng</td>\n",
              "      <td>Dialoogi</td>\n",
              "    </tr>\n",
              "    <tr>\n",
              "      <th>4183132</th>\n",
              "      <td>163</td>\n",
              "      <td>96-1565</td>\n",
              "      <td>0</td>\n",
              "      <td>Tongseng</td>\n",
              "      <td>Dialoogi</td>\n",
              "    </tr>\n",
              "    <tr>\n",
              "      <th>4183133</th>\n",
              "      <td>849</td>\n",
              "      <td>96-1565</td>\n",
              "      <td>0</td>\n",
              "      <td>Tongseng</td>\n",
              "      <td>Dialoogi</td>\n",
              "    </tr>\n",
              "  </tbody>\n",
              "</table>\n",
              "<p>4183134 rows × 5 columns</p>\n",
              "</div>\n",
              "    <div class=\"colab-df-buttons\">\n",
              "\n",
              "  <div class=\"colab-df-container\">\n",
              "    <button class=\"colab-df-convert\" onclick=\"convertToInteractive('df-2290cab4-03dc-48f3-8dc8-86a60a9c4c9d')\"\n",
              "            title=\"Convert this dataframe to an interactive table.\"\n",
              "            style=\"display:none;\">\n",
              "\n",
              "  <svg xmlns=\"http://www.w3.org/2000/svg\" height=\"24px\" viewBox=\"0 -960 960 960\">\n",
              "    <path d=\"M120-120v-720h720v720H120Zm60-500h600v-160H180v160Zm220 220h160v-160H400v160Zm0 220h160v-160H400v160ZM180-400h160v-160H180v160Zm440 0h160v-160H620v160ZM180-180h160v-160H180v160Zm440 0h160v-160H620v160Z\"/>\n",
              "  </svg>\n",
              "    </button>\n",
              "\n",
              "  <style>\n",
              "    .colab-df-container {\n",
              "      display:flex;\n",
              "      gap: 12px;\n",
              "    }\n",
              "\n",
              "    .colab-df-convert {\n",
              "      background-color: #E8F0FE;\n",
              "      border: none;\n",
              "      border-radius: 50%;\n",
              "      cursor: pointer;\n",
              "      display: none;\n",
              "      fill: #1967D2;\n",
              "      height: 32px;\n",
              "      padding: 0 0 0 0;\n",
              "      width: 32px;\n",
              "    }\n",
              "\n",
              "    .colab-df-convert:hover {\n",
              "      background-color: #E2EBFA;\n",
              "      box-shadow: 0px 1px 2px rgba(60, 64, 67, 0.3), 0px 1px 3px 1px rgba(60, 64, 67, 0.15);\n",
              "      fill: #174EA6;\n",
              "    }\n",
              "\n",
              "    .colab-df-buttons div {\n",
              "      margin-bottom: 4px;\n",
              "    }\n",
              "\n",
              "    [theme=dark] .colab-df-convert {\n",
              "      background-color: #3B4455;\n",
              "      fill: #D2E3FC;\n",
              "    }\n",
              "\n",
              "    [theme=dark] .colab-df-convert:hover {\n",
              "      background-color: #434B5C;\n",
              "      box-shadow: 0px 1px 3px 1px rgba(0, 0, 0, 0.15);\n",
              "      filter: drop-shadow(0px 1px 2px rgba(0, 0, 0, 0.3));\n",
              "      fill: #FFFFFF;\n",
              "    }\n",
              "  </style>\n",
              "\n",
              "    <script>\n",
              "      const buttonEl =\n",
              "        document.querySelector('#df-2290cab4-03dc-48f3-8dc8-86a60a9c4c9d button.colab-df-convert');\n",
              "      buttonEl.style.display =\n",
              "        google.colab.kernel.accessAllowed ? 'block' : 'none';\n",
              "\n",
              "      async function convertToInteractive(key) {\n",
              "        const element = document.querySelector('#df-2290cab4-03dc-48f3-8dc8-86a60a9c4c9d');\n",
              "        const dataTable =\n",
              "          await google.colab.kernel.invokeFunction('convertToInteractive',\n",
              "                                                    [key], {});\n",
              "        if (!dataTable) return;\n",
              "\n",
              "        const docLinkHtml = 'Like what you see? Visit the ' +\n",
              "          '<a target=\"_blank\" href=https://colab.research.google.com/notebooks/data_table.ipynb>data table notebook</a>'\n",
              "          + ' to learn more about interactive tables.';\n",
              "        element.innerHTML = '';\n",
              "        dataTable['output_type'] = 'display_data';\n",
              "        await google.colab.output.renderOutput(dataTable, element);\n",
              "        const docLink = document.createElement('div');\n",
              "        docLink.innerHTML = docLinkHtml;\n",
              "        element.appendChild(docLink);\n",
              "      }\n",
              "    </script>\n",
              "  </div>\n",
              "\n",
              "\n",
              "<div id=\"df-119e8dc0-31ed-46ad-a754-a19a36d58a27\">\n",
              "  <button class=\"colab-df-quickchart\" onclick=\"quickchart('df-119e8dc0-31ed-46ad-a754-a19a36d58a27')\"\n",
              "            title=\"Suggest charts\"\n",
              "            style=\"display:none;\">\n",
              "\n",
              "<svg xmlns=\"http://www.w3.org/2000/svg\" height=\"24px\"viewBox=\"0 0 24 24\"\n",
              "     width=\"24px\">\n",
              "    <g>\n",
              "        <path d=\"M19 3H5c-1.1 0-2 .9-2 2v14c0 1.1.9 2 2 2h14c1.1 0 2-.9 2-2V5c0-1.1-.9-2-2-2zM9 17H7v-7h2v7zm4 0h-2V7h2v10zm4 0h-2v-4h2v4z\"/>\n",
              "    </g>\n",
              "</svg>\n",
              "  </button>\n",
              "\n",
              "<style>\n",
              "  .colab-df-quickchart {\n",
              "      --bg-color: #E8F0FE;\n",
              "      --fill-color: #1967D2;\n",
              "      --hover-bg-color: #E2EBFA;\n",
              "      --hover-fill-color: #174EA6;\n",
              "      --disabled-fill-color: #AAA;\n",
              "      --disabled-bg-color: #DDD;\n",
              "  }\n",
              "\n",
              "  [theme=dark] .colab-df-quickchart {\n",
              "      --bg-color: #3B4455;\n",
              "      --fill-color: #D2E3FC;\n",
              "      --hover-bg-color: #434B5C;\n",
              "      --hover-fill-color: #FFFFFF;\n",
              "      --disabled-bg-color: #3B4455;\n",
              "      --disabled-fill-color: #666;\n",
              "  }\n",
              "\n",
              "  .colab-df-quickchart {\n",
              "    background-color: var(--bg-color);\n",
              "    border: none;\n",
              "    border-radius: 50%;\n",
              "    cursor: pointer;\n",
              "    display: none;\n",
              "    fill: var(--fill-color);\n",
              "    height: 32px;\n",
              "    padding: 0;\n",
              "    width: 32px;\n",
              "  }\n",
              "\n",
              "  .colab-df-quickchart:hover {\n",
              "    background-color: var(--hover-bg-color);\n",
              "    box-shadow: 0 1px 2px rgba(60, 64, 67, 0.3), 0 1px 3px 1px rgba(60, 64, 67, 0.15);\n",
              "    fill: var(--button-hover-fill-color);\n",
              "  }\n",
              "\n",
              "  .colab-df-quickchart-complete:disabled,\n",
              "  .colab-df-quickchart-complete:disabled:hover {\n",
              "    background-color: var(--disabled-bg-color);\n",
              "    fill: var(--disabled-fill-color);\n",
              "    box-shadow: none;\n",
              "  }\n",
              "\n",
              "  .colab-df-spinner {\n",
              "    border: 2px solid var(--fill-color);\n",
              "    border-color: transparent;\n",
              "    border-bottom-color: var(--fill-color);\n",
              "    animation:\n",
              "      spin 1s steps(1) infinite;\n",
              "  }\n",
              "\n",
              "  @keyframes spin {\n",
              "    0% {\n",
              "      border-color: transparent;\n",
              "      border-bottom-color: var(--fill-color);\n",
              "      border-left-color: var(--fill-color);\n",
              "    }\n",
              "    20% {\n",
              "      border-color: transparent;\n",
              "      border-left-color: var(--fill-color);\n",
              "      border-top-color: var(--fill-color);\n",
              "    }\n",
              "    30% {\n",
              "      border-color: transparent;\n",
              "      border-left-color: var(--fill-color);\n",
              "      border-top-color: var(--fill-color);\n",
              "      border-right-color: var(--fill-color);\n",
              "    }\n",
              "    40% {\n",
              "      border-color: transparent;\n",
              "      border-right-color: var(--fill-color);\n",
              "      border-top-color: var(--fill-color);\n",
              "    }\n",
              "    60% {\n",
              "      border-color: transparent;\n",
              "      border-right-color: var(--fill-color);\n",
              "    }\n",
              "    80% {\n",
              "      border-color: transparent;\n",
              "      border-right-color: var(--fill-color);\n",
              "      border-bottom-color: var(--fill-color);\n",
              "    }\n",
              "    90% {\n",
              "      border-color: transparent;\n",
              "      border-bottom-color: var(--fill-color);\n",
              "    }\n",
              "  }\n",
              "</style>\n",
              "\n",
              "  <script>\n",
              "    async function quickchart(key) {\n",
              "      const quickchartButtonEl =\n",
              "        document.querySelector('#' + key + ' button');\n",
              "      quickchartButtonEl.disabled = true;  // To prevent multiple clicks.\n",
              "      quickchartButtonEl.classList.add('colab-df-spinner');\n",
              "      try {\n",
              "        const charts = await google.colab.kernel.invokeFunction(\n",
              "            'suggestCharts', [key], {});\n",
              "      } catch (error) {\n",
              "        console.error('Error during call to suggestCharts:', error);\n",
              "      }\n",
              "      quickchartButtonEl.classList.remove('colab-df-spinner');\n",
              "      quickchartButtonEl.classList.add('colab-df-quickchart-complete');\n",
              "    }\n",
              "    (() => {\n",
              "      let quickchartButtonEl =\n",
              "        document.querySelector('#df-119e8dc0-31ed-46ad-a754-a19a36d58a27 button');\n",
              "      quickchartButtonEl.style.display =\n",
              "        google.colab.kernel.accessAllowed ? 'block' : 'none';\n",
              "    })();\n",
              "  </script>\n",
              "</div>\n",
              "    </div>\n",
              "  </div>\n"
            ],
            "text/plain": [
              "         user_id  food_id  like food_name   resto_name\n",
              "0            102    01-42     1      Ayam  Tukang Ayam\n",
              "1           1045    01-42     0      Ayam  Tukang Ayam\n",
              "2           1049    01-42     1      Ayam  Tukang Ayam\n",
              "3           1051    01-42     0      Ayam  Tukang Ayam\n",
              "4           1056    01-42     0      Ayam  Tukang Ayam\n",
              "...          ...      ...   ...       ...          ...\n",
              "4183129     1184  96-1565     0  Tongseng     Dialoogi\n",
              "4183130      188  96-1565     0  Tongseng     Dialoogi\n",
              "4183131       52  96-1565     0  Tongseng     Dialoogi\n",
              "4183132      163  96-1565     0  Tongseng     Dialoogi\n",
              "4183133      849  96-1565     0  Tongseng     Dialoogi\n",
              "\n",
              "[4183134 rows x 5 columns]"
            ]
          },
          "execution_count": 16,
          "metadata": {},
          "output_type": "execute_result"
        }
      ],
      "source": [
        "food_like"
      ]
    },
    {
      "cell_type": "code",
      "execution_count": 14,
      "metadata": {
        "id": "Y6T_rcZ-5jEP"
      },
      "outputs": [],
      "source": [
        "json_data = food_like.to_json(orient='records')\n",
        "\n",
        "with open('output_file.json', 'w') as json_file:\n",
        "    json_file.write(json_data)"
      ]
    },
    {
      "cell_type": "markdown",
      "metadata": {
        "id": "lcrzTFh9R-_Z"
      },
      "source": [
        "### LIKE BASED"
      ]
    },
    {
      "cell_type": "code",
      "execution_count": 17,
      "metadata": {
        "id": "-NPXn2DqL_l_"
      },
      "outputs": [],
      "source": [
        "data = food_like"
      ]
    },
    {
      "cell_type": "code",
      "execution_count": 18,
      "metadata": {
        "id": "dc_ejb0Rd-EL"
      },
      "outputs": [],
      "source": [
        "user_encoder = LabelEncoder()\n",
        "food_encoder = LabelEncoder()\n",
        "\n",
        "data['user_encoded'] = user_encoder.fit_transform(data['user_id'])\n",
        "data['food_encoded'] = food_encoder.fit_transform(data['food_id'])\n",
        "\n",
        "train_data, test_data = train_test_split(data, test_size=0.2, random_state=42)"
      ]
    },
    {
      "cell_type": "code",
      "execution_count": 19,
      "metadata": {
        "id": "z7Aur6l63ZiX"
      },
      "outputs": [],
      "source": [
        "embedding_size = 50\n",
        "\n",
        "def create_model(embedding_size):\n",
        "  user_input = tf.keras.layers.Input(shape=(1,), name='user_input')\n",
        "  food_input = tf.keras.layers.Input(shape=(1,), name='food_input')\n",
        "\n",
        "  user_embedding = tf.keras.layers.Embedding(input_dim=len(user_encoder.classes_), output_dim=embedding_size, name='user_embedding')(user_input)\n",
        "  food_embedding = tf.keras.layers.Embedding(input_dim=len(food_encoder.classes_), output_dim=embedding_size, name='food_embedding')(food_input)\n",
        "\n",
        "  dot_product = tf.keras.layers.Dot(axes=2)([user_embedding, food_embedding])\n",
        "  flatten = tf.keras.layers.Flatten()(dot_product)\n",
        "\n",
        "  output = tf.keras.layers.Dense(1, activation='sigmoid')(flatten)\n",
        "  model = tf.keras.models.Model(inputs=[user_input, food_input], outputs=output)\n",
        "\n",
        "  return model"
      ]
    },
    {
      "cell_type": "code",
      "execution_count": 20,
      "metadata": {
        "id": "UH6PTmL7_-bW"
      },
      "outputs": [],
      "source": [
        "model = create_model(embedding_size)"
      ]
    },
    {
      "cell_type": "code",
      "execution_count": 21,
      "metadata": {
        "id": "DBWj28EwjyVW"
      },
      "outputs": [],
      "source": [
        "model.compile(optimizer=tf.keras.optimizers.Adam(learning_rate=0.001), loss='binary_crossentropy', metrics=[\n",
        "        'acc',\n",
        "        tf.keras.metrics.AUC(name='auc'),\n",
        "    ])"
      ]
    },
    {
      "cell_type": "code",
      "execution_count": 22,
      "metadata": {
        "colab": {
          "base_uri": "https://localhost:8080/"
        },
        "id": "wp4RgVRWAQzN",
        "outputId": "291b529e-9126-4232-f666-5b7d02334cbb"
      },
      "outputs": [
        {
          "name": "stdout",
          "output_type": "stream",
          "text": [
            "Epoch 1/3\n",
            "26145/26145 [==============================] - 182s 7ms/step - loss: 0.1049 - acc: 0.9778 - auc: 0.7749\n",
            "Epoch 2/3\n",
            "26145/26145 [==============================] - 171s 7ms/step - loss: 0.0816 - acc: 0.9778 - auc: 0.8743\n",
            "Epoch 3/3\n",
            "26145/26145 [==============================] - 168s 6ms/step - loss: 0.0702 - acc: 0.9778 - auc: 0.9333\n"
          ]
        },
        {
          "data": {
            "text/plain": [
              "<keras.src.callbacks.History at 0x7835079237c0>"
            ]
          },
          "execution_count": 22,
          "metadata": {},
          "output_type": "execute_result"
        }
      ],
      "source": [
        "model.fit([train_data['user_encoded'], train_data['food_encoded']], train_data['like'], epochs=3, batch_size=128, verbose = 1)"
      ]
    },
    {
      "cell_type": "code",
      "execution_count": 23,
      "metadata": {
        "colab": {
          "base_uri": "https://localhost:8080/"
        },
        "id": "G0CvnfoXABC5",
        "outputId": "8003518e-4646-4027-feff-7c2a57188bc5"
      },
      "outputs": [
        {
          "name": "stdout",
          "output_type": "stream",
          "text": [
            "26145/26145 [==============================] - 47s 2ms/step - loss: 0.0695 - acc: 0.9775 - auc: 0.9373\n",
            "Test Accuracy: 97.75%\n"
          ]
        }
      ],
      "source": [
        "test_loss, test_acc, auc = model.evaluate([test_data['user_encoded'], test_data['food_encoded']], test_data['like'])\n",
        "print(f'Test Accuracy: {test_acc * 100:.2f}%')"
      ]
    },
    {
      "cell_type": "code",
      "execution_count": null,
      "metadata": {
        "colab": {
          "base_uri": "https://localhost:8080/"
        },
        "id": "5R3S_02IAFzn",
        "outputId": "359f3c75-6a14-4165-f091-963bc6334204"
      },
      "outputs": [
        {
          "name": "stderr",
          "output_type": "stream",
          "text": [
            "/usr/local/lib/python3.10/dist-packages/keras/src/engine/training.py:3103: UserWarning: You are saving your model as an HDF5 file via `model.save()`. This file format is considered legacy. We recommend using instead the native Keras format, e.g. `model.save('my_model.keras')`.\n",
            "  saving_api.save_model(\n"
          ]
        }
      ],
      "source": [
        "model.save(\"fix_model.h5\")"
      ]
    },
    {
      "cell_type": "markdown",
      "metadata": {
        "id": "8qXlBiH2RBgX"
      },
      "source": [
        "### PREDICT\n"
      ]
    },
    {
      "cell_type": "code",
      "execution_count": 25,
      "metadata": {
        "id": "K_xRwsPy03rp"
      },
      "outputs": [],
      "source": [
        "data_img = pd.read_csv('/content/preprocess_content_based_data.csv', sep=',')"
      ]
    },
    {
      "cell_type": "code",
      "execution_count": 26,
      "metadata": {
        "colab": {
          "base_uri": "https://localhost:8080/",
          "height": 530
        },
        "id": "4US7fJDG1FgH",
        "outputId": "cc8ced3e-01d8-4b49-d814-597b9551e57d"
      },
      "outputs": [
        {
          "data": {
            "text/html": [
              "\n",
              "  <div id=\"df-13b55a16-5c73-43be-bd0a-71f5093723ae\" class=\"colab-df-container\">\n",
              "    <div>\n",
              "<style scoped>\n",
              "    .dataframe tbody tr th:only-of-type {\n",
              "        vertical-align: middle;\n",
              "    }\n",
              "\n",
              "    .dataframe tbody tr th {\n",
              "        vertical-align: top;\n",
              "    }\n",
              "\n",
              "    .dataframe thead th {\n",
              "        text-align: right;\n",
              "    }\n",
              "</style>\n",
              "<table border=\"1\" class=\"dataframe\">\n",
              "  <thead>\n",
              "    <tr style=\"text-align: right;\">\n",
              "      <th></th>\n",
              "      <th>Unnamed: 0.1</th>\n",
              "      <th>Unnamed: 0</th>\n",
              "      <th>food_id</th>\n",
              "      <th>food_name</th>\n",
              "      <th>Label Daging</th>\n",
              "      <th>Label Sayur</th>\n",
              "      <th>Label Buah</th>\n",
              "      <th>Label Kacang</th>\n",
              "      <th>Bumbu</th>\n",
              "      <th>Singkong</th>\n",
              "      <th>...</th>\n",
              "      <th>Label Seafood</th>\n",
              "      <th>Label Tepung</th>\n",
              "      <th>Label Kuah</th>\n",
              "      <th>Label Pedas</th>\n",
              "      <th>Daging Ayam</th>\n",
              "      <th>Daging Kambing</th>\n",
              "      <th>Daging Babi</th>\n",
              "      <th>Daging Sapi</th>\n",
              "      <th>Ikan</th>\n",
              "      <th>image</th>\n",
              "    </tr>\n",
              "  </thead>\n",
              "  <tbody>\n",
              "    <tr>\n",
              "      <th>0</th>\n",
              "      <td>0</td>\n",
              "      <td>0</td>\n",
              "      <td>1.0</td>\n",
              "      <td>Abon</td>\n",
              "      <td>1</td>\n",
              "      <td>0</td>\n",
              "      <td>0</td>\n",
              "      <td>0</td>\n",
              "      <td>0</td>\n",
              "      <td>0</td>\n",
              "      <td>...</td>\n",
              "      <td>0</td>\n",
              "      <td>0</td>\n",
              "      <td>0</td>\n",
              "      <td>0</td>\n",
              "      <td>0</td>\n",
              "      <td>0</td>\n",
              "      <td>0</td>\n",
              "      <td>0</td>\n",
              "      <td>0</td>\n",
              "      <td>https://img-cdn.medkomtek.com/PbrY9X3ignQ8sVuj...</td>\n",
              "    </tr>\n",
              "    <tr>\n",
              "      <th>1</th>\n",
              "      <td>1</td>\n",
              "      <td>1</td>\n",
              "      <td>2.0</td>\n",
              "      <td>Abon haruwan</td>\n",
              "      <td>0</td>\n",
              "      <td>1</td>\n",
              "      <td>0</td>\n",
              "      <td>0</td>\n",
              "      <td>0</td>\n",
              "      <td>0</td>\n",
              "      <td>...</td>\n",
              "      <td>0</td>\n",
              "      <td>0</td>\n",
              "      <td>0</td>\n",
              "      <td>0</td>\n",
              "      <td>0</td>\n",
              "      <td>0</td>\n",
              "      <td>0</td>\n",
              "      <td>0</td>\n",
              "      <td>0</td>\n",
              "      <td>https://img-global.cpcdn.com/recipes/cbf330fbd...</td>\n",
              "    </tr>\n",
              "    <tr>\n",
              "      <th>2</th>\n",
              "      <td>2</td>\n",
              "      <td>2</td>\n",
              "      <td>3.0</td>\n",
              "      <td>Abon sapi</td>\n",
              "      <td>1</td>\n",
              "      <td>0</td>\n",
              "      <td>0</td>\n",
              "      <td>0</td>\n",
              "      <td>0</td>\n",
              "      <td>0</td>\n",
              "      <td>...</td>\n",
              "      <td>0</td>\n",
              "      <td>0</td>\n",
              "      <td>0</td>\n",
              "      <td>0</td>\n",
              "      <td>0</td>\n",
              "      <td>0</td>\n",
              "      <td>0</td>\n",
              "      <td>1</td>\n",
              "      <td>0</td>\n",
              "      <td>https://img.kurio.network/bBTENwW0CA40Pmyk26Er...</td>\n",
              "    </tr>\n",
              "    <tr>\n",
              "      <th>3</th>\n",
              "      <td>3</td>\n",
              "      <td>3</td>\n",
              "      <td>4.0</td>\n",
              "      <td>Acar kuning</td>\n",
              "      <td>0</td>\n",
              "      <td>1</td>\n",
              "      <td>0</td>\n",
              "      <td>0</td>\n",
              "      <td>0</td>\n",
              "      <td>0</td>\n",
              "      <td>...</td>\n",
              "      <td>0</td>\n",
              "      <td>0</td>\n",
              "      <td>0</td>\n",
              "      <td>0</td>\n",
              "      <td>0</td>\n",
              "      <td>0</td>\n",
              "      <td>0</td>\n",
              "      <td>0</td>\n",
              "      <td>0</td>\n",
              "      <td>https://img-global.cpcdn.com/recipes/23fc7d563...</td>\n",
              "    </tr>\n",
              "    <tr>\n",
              "      <th>4</th>\n",
              "      <td>4</td>\n",
              "      <td>4</td>\n",
              "      <td>5.0</td>\n",
              "      <td>Agar-agar</td>\n",
              "      <td>0</td>\n",
              "      <td>0</td>\n",
              "      <td>0</td>\n",
              "      <td>0</td>\n",
              "      <td>0</td>\n",
              "      <td>0</td>\n",
              "      <td>...</td>\n",
              "      <td>0</td>\n",
              "      <td>0</td>\n",
              "      <td>0</td>\n",
              "      <td>0</td>\n",
              "      <td>0</td>\n",
              "      <td>0</td>\n",
              "      <td>0</td>\n",
              "      <td>0</td>\n",
              "      <td>0</td>\n",
              "      <td>https://res.cloudinary.com/dk0z4ums3/image/upl...</td>\n",
              "    </tr>\n",
              "    <tr>\n",
              "      <th>...</th>\n",
              "      <td>...</td>\n",
              "      <td>...</td>\n",
              "      <td>...</td>\n",
              "      <td>...</td>\n",
              "      <td>...</td>\n",
              "      <td>...</td>\n",
              "      <td>...</td>\n",
              "      <td>...</td>\n",
              "      <td>...</td>\n",
              "      <td>...</td>\n",
              "      <td>...</td>\n",
              "      <td>...</td>\n",
              "      <td>...</td>\n",
              "      <td>...</td>\n",
              "      <td>...</td>\n",
              "      <td>...</td>\n",
              "      <td>...</td>\n",
              "      <td>...</td>\n",
              "      <td>...</td>\n",
              "      <td>...</td>\n",
              "      <td>...</td>\n",
              "    </tr>\n",
              "    <tr>\n",
              "      <th>1609</th>\n",
              "      <td>1609</td>\n",
              "      <td>1609</td>\n",
              "      <td>1610.0</td>\n",
              "      <td>Wortel Rebus</td>\n",
              "      <td>0</td>\n",
              "      <td>1</td>\n",
              "      <td>0</td>\n",
              "      <td>0</td>\n",
              "      <td>0</td>\n",
              "      <td>0</td>\n",
              "      <td>...</td>\n",
              "      <td>0</td>\n",
              "      <td>0</td>\n",
              "      <td>1</td>\n",
              "      <td>0</td>\n",
              "      <td>0</td>\n",
              "      <td>0</td>\n",
              "      <td>0</td>\n",
              "      <td>0</td>\n",
              "      <td>0</td>\n",
              "      <td>https://asset-a.grid.id/crop/0x222:594x690/700...</td>\n",
              "    </tr>\n",
              "    <tr>\n",
              "      <th>1610</th>\n",
              "      <td>1610</td>\n",
              "      <td>1610</td>\n",
              "      <td>1611.0</td>\n",
              "      <td>Wortel Segar</td>\n",
              "      <td>0</td>\n",
              "      <td>1</td>\n",
              "      <td>0</td>\n",
              "      <td>0</td>\n",
              "      <td>0</td>\n",
              "      <td>0</td>\n",
              "      <td>...</td>\n",
              "      <td>0</td>\n",
              "      <td>0</td>\n",
              "      <td>0</td>\n",
              "      <td>0</td>\n",
              "      <td>0</td>\n",
              "      <td>0</td>\n",
              "      <td>0</td>\n",
              "      <td>0</td>\n",
              "      <td>0</td>\n",
              "      <td>https://www.astronauts.id/blog/wp-content/uplo...</td>\n",
              "    </tr>\n",
              "    <tr>\n",
              "      <th>1611</th>\n",
              "      <td>1611</td>\n",
              "      <td>1611</td>\n",
              "      <td>1612.0</td>\n",
              "      <td>Yangko</td>\n",
              "      <td>0</td>\n",
              "      <td>0</td>\n",
              "      <td>0</td>\n",
              "      <td>0</td>\n",
              "      <td>0</td>\n",
              "      <td>0</td>\n",
              "      <td>...</td>\n",
              "      <td>0</td>\n",
              "      <td>1</td>\n",
              "      <td>0</td>\n",
              "      <td>0</td>\n",
              "      <td>0</td>\n",
              "      <td>0</td>\n",
              "      <td>0</td>\n",
              "      <td>0</td>\n",
              "      <td>0</td>\n",
              "      <td>https://serikatnews.com/wp-content/uploads/202...</td>\n",
              "    </tr>\n",
              "    <tr>\n",
              "      <th>1612</th>\n",
              "      <td>1612</td>\n",
              "      <td>1612</td>\n",
              "      <td>1613.0</td>\n",
              "      <td>Yoghurt</td>\n",
              "      <td>0</td>\n",
              "      <td>0</td>\n",
              "      <td>0</td>\n",
              "      <td>0</td>\n",
              "      <td>0</td>\n",
              "      <td>0</td>\n",
              "      <td>...</td>\n",
              "      <td>0</td>\n",
              "      <td>0</td>\n",
              "      <td>0</td>\n",
              "      <td>0</td>\n",
              "      <td>0</td>\n",
              "      <td>0</td>\n",
              "      <td>0</td>\n",
              "      <td>0</td>\n",
              "      <td>0</td>\n",
              "      <td>https://d1vbn70lmn1nqe.cloudfront.net/prod/wp-...</td>\n",
              "    </tr>\n",
              "    <tr>\n",
              "      <th>1613</th>\n",
              "      <td>1613</td>\n",
              "      <td>1613</td>\n",
              "      <td>NaN</td>\n",
              "      <td>NaN</td>\n",
              "      <td>0</td>\n",
              "      <td>100%</td>\n",
              "      <td>100%</td>\n",
              "      <td>100%</td>\n",
              "      <td>100%</td>\n",
              "      <td>100%</td>\n",
              "      <td>...</td>\n",
              "      <td>100%</td>\n",
              "      <td>100%</td>\n",
              "      <td>100%</td>\n",
              "      <td>100%</td>\n",
              "      <td>100%</td>\n",
              "      <td>100%</td>\n",
              "      <td>100%</td>\n",
              "      <td>100%</td>\n",
              "      <td>100%</td>\n",
              "      <td>NaN</td>\n",
              "    </tr>\n",
              "  </tbody>\n",
              "</table>\n",
              "<p>1614 rows × 32 columns</p>\n",
              "</div>\n",
              "    <div class=\"colab-df-buttons\">\n",
              "\n",
              "  <div class=\"colab-df-container\">\n",
              "    <button class=\"colab-df-convert\" onclick=\"convertToInteractive('df-13b55a16-5c73-43be-bd0a-71f5093723ae')\"\n",
              "            title=\"Convert this dataframe to an interactive table.\"\n",
              "            style=\"display:none;\">\n",
              "\n",
              "  <svg xmlns=\"http://www.w3.org/2000/svg\" height=\"24px\" viewBox=\"0 -960 960 960\">\n",
              "    <path d=\"M120-120v-720h720v720H120Zm60-500h600v-160H180v160Zm220 220h160v-160H400v160Zm0 220h160v-160H400v160ZM180-400h160v-160H180v160Zm440 0h160v-160H620v160ZM180-180h160v-160H180v160Zm440 0h160v-160H620v160Z\"/>\n",
              "  </svg>\n",
              "    </button>\n",
              "\n",
              "  <style>\n",
              "    .colab-df-container {\n",
              "      display:flex;\n",
              "      gap: 12px;\n",
              "    }\n",
              "\n",
              "    .colab-df-convert {\n",
              "      background-color: #E8F0FE;\n",
              "      border: none;\n",
              "      border-radius: 50%;\n",
              "      cursor: pointer;\n",
              "      display: none;\n",
              "      fill: #1967D2;\n",
              "      height: 32px;\n",
              "      padding: 0 0 0 0;\n",
              "      width: 32px;\n",
              "    }\n",
              "\n",
              "    .colab-df-convert:hover {\n",
              "      background-color: #E2EBFA;\n",
              "      box-shadow: 0px 1px 2px rgba(60, 64, 67, 0.3), 0px 1px 3px 1px rgba(60, 64, 67, 0.15);\n",
              "      fill: #174EA6;\n",
              "    }\n",
              "\n",
              "    .colab-df-buttons div {\n",
              "      margin-bottom: 4px;\n",
              "    }\n",
              "\n",
              "    [theme=dark] .colab-df-convert {\n",
              "      background-color: #3B4455;\n",
              "      fill: #D2E3FC;\n",
              "    }\n",
              "\n",
              "    [theme=dark] .colab-df-convert:hover {\n",
              "      background-color: #434B5C;\n",
              "      box-shadow: 0px 1px 3px 1px rgba(0, 0, 0, 0.15);\n",
              "      filter: drop-shadow(0px 1px 2px rgba(0, 0, 0, 0.3));\n",
              "      fill: #FFFFFF;\n",
              "    }\n",
              "  </style>\n",
              "\n",
              "    <script>\n",
              "      const buttonEl =\n",
              "        document.querySelector('#df-13b55a16-5c73-43be-bd0a-71f5093723ae button.colab-df-convert');\n",
              "      buttonEl.style.display =\n",
              "        google.colab.kernel.accessAllowed ? 'block' : 'none';\n",
              "\n",
              "      async function convertToInteractive(key) {\n",
              "        const element = document.querySelector('#df-13b55a16-5c73-43be-bd0a-71f5093723ae');\n",
              "        const dataTable =\n",
              "          await google.colab.kernel.invokeFunction('convertToInteractive',\n",
              "                                                    [key], {});\n",
              "        if (!dataTable) return;\n",
              "\n",
              "        const docLinkHtml = 'Like what you see? Visit the ' +\n",
              "          '<a target=\"_blank\" href=https://colab.research.google.com/notebooks/data_table.ipynb>data table notebook</a>'\n",
              "          + ' to learn more about interactive tables.';\n",
              "        element.innerHTML = '';\n",
              "        dataTable['output_type'] = 'display_data';\n",
              "        await google.colab.output.renderOutput(dataTable, element);\n",
              "        const docLink = document.createElement('div');\n",
              "        docLink.innerHTML = docLinkHtml;\n",
              "        element.appendChild(docLink);\n",
              "      }\n",
              "    </script>\n",
              "  </div>\n",
              "\n",
              "\n",
              "<div id=\"df-e7b07fb5-43d0-444c-ae85-13c0c89d9db1\">\n",
              "  <button class=\"colab-df-quickchart\" onclick=\"quickchart('df-e7b07fb5-43d0-444c-ae85-13c0c89d9db1')\"\n",
              "            title=\"Suggest charts\"\n",
              "            style=\"display:none;\">\n",
              "\n",
              "<svg xmlns=\"http://www.w3.org/2000/svg\" height=\"24px\"viewBox=\"0 0 24 24\"\n",
              "     width=\"24px\">\n",
              "    <g>\n",
              "        <path d=\"M19 3H5c-1.1 0-2 .9-2 2v14c0 1.1.9 2 2 2h14c1.1 0 2-.9 2-2V5c0-1.1-.9-2-2-2zM9 17H7v-7h2v7zm4 0h-2V7h2v10zm4 0h-2v-4h2v4z\"/>\n",
              "    </g>\n",
              "</svg>\n",
              "  </button>\n",
              "\n",
              "<style>\n",
              "  .colab-df-quickchart {\n",
              "      --bg-color: #E8F0FE;\n",
              "      --fill-color: #1967D2;\n",
              "      --hover-bg-color: #E2EBFA;\n",
              "      --hover-fill-color: #174EA6;\n",
              "      --disabled-fill-color: #AAA;\n",
              "      --disabled-bg-color: #DDD;\n",
              "  }\n",
              "\n",
              "  [theme=dark] .colab-df-quickchart {\n",
              "      --bg-color: #3B4455;\n",
              "      --fill-color: #D2E3FC;\n",
              "      --hover-bg-color: #434B5C;\n",
              "      --hover-fill-color: #FFFFFF;\n",
              "      --disabled-bg-color: #3B4455;\n",
              "      --disabled-fill-color: #666;\n",
              "  }\n",
              "\n",
              "  .colab-df-quickchart {\n",
              "    background-color: var(--bg-color);\n",
              "    border: none;\n",
              "    border-radius: 50%;\n",
              "    cursor: pointer;\n",
              "    display: none;\n",
              "    fill: var(--fill-color);\n",
              "    height: 32px;\n",
              "    padding: 0;\n",
              "    width: 32px;\n",
              "  }\n",
              "\n",
              "  .colab-df-quickchart:hover {\n",
              "    background-color: var(--hover-bg-color);\n",
              "    box-shadow: 0 1px 2px rgba(60, 64, 67, 0.3), 0 1px 3px 1px rgba(60, 64, 67, 0.15);\n",
              "    fill: var(--button-hover-fill-color);\n",
              "  }\n",
              "\n",
              "  .colab-df-quickchart-complete:disabled,\n",
              "  .colab-df-quickchart-complete:disabled:hover {\n",
              "    background-color: var(--disabled-bg-color);\n",
              "    fill: var(--disabled-fill-color);\n",
              "    box-shadow: none;\n",
              "  }\n",
              "\n",
              "  .colab-df-spinner {\n",
              "    border: 2px solid var(--fill-color);\n",
              "    border-color: transparent;\n",
              "    border-bottom-color: var(--fill-color);\n",
              "    animation:\n",
              "      spin 1s steps(1) infinite;\n",
              "  }\n",
              "\n",
              "  @keyframes spin {\n",
              "    0% {\n",
              "      border-color: transparent;\n",
              "      border-bottom-color: var(--fill-color);\n",
              "      border-left-color: var(--fill-color);\n",
              "    }\n",
              "    20% {\n",
              "      border-color: transparent;\n",
              "      border-left-color: var(--fill-color);\n",
              "      border-top-color: var(--fill-color);\n",
              "    }\n",
              "    30% {\n",
              "      border-color: transparent;\n",
              "      border-left-color: var(--fill-color);\n",
              "      border-top-color: var(--fill-color);\n",
              "      border-right-color: var(--fill-color);\n",
              "    }\n",
              "    40% {\n",
              "      border-color: transparent;\n",
              "      border-right-color: var(--fill-color);\n",
              "      border-top-color: var(--fill-color);\n",
              "    }\n",
              "    60% {\n",
              "      border-color: transparent;\n",
              "      border-right-color: var(--fill-color);\n",
              "    }\n",
              "    80% {\n",
              "      border-color: transparent;\n",
              "      border-right-color: var(--fill-color);\n",
              "      border-bottom-color: var(--fill-color);\n",
              "    }\n",
              "    90% {\n",
              "      border-color: transparent;\n",
              "      border-bottom-color: var(--fill-color);\n",
              "    }\n",
              "  }\n",
              "</style>\n",
              "\n",
              "  <script>\n",
              "    async function quickchart(key) {\n",
              "      const quickchartButtonEl =\n",
              "        document.querySelector('#' + key + ' button');\n",
              "      quickchartButtonEl.disabled = true;  // To prevent multiple clicks.\n",
              "      quickchartButtonEl.classList.add('colab-df-spinner');\n",
              "      try {\n",
              "        const charts = await google.colab.kernel.invokeFunction(\n",
              "            'suggestCharts', [key], {});\n",
              "      } catch (error) {\n",
              "        console.error('Error during call to suggestCharts:', error);\n",
              "      }\n",
              "      quickchartButtonEl.classList.remove('colab-df-spinner');\n",
              "      quickchartButtonEl.classList.add('colab-df-quickchart-complete');\n",
              "    }\n",
              "    (() => {\n",
              "      let quickchartButtonEl =\n",
              "        document.querySelector('#df-e7b07fb5-43d0-444c-ae85-13c0c89d9db1 button');\n",
              "      quickchartButtonEl.style.display =\n",
              "        google.colab.kernel.accessAllowed ? 'block' : 'none';\n",
              "    })();\n",
              "  </script>\n",
              "</div>\n",
              "    </div>\n",
              "  </div>\n"
            ],
            "text/plain": [
              "      Unnamed: 0.1  Unnamed: 0  food_id     food_name  Label Daging  \\\n",
              "0                0           0      1.0          Abon             1   \n",
              "1                1           1      2.0  Abon haruwan             0   \n",
              "2                2           2      3.0     Abon sapi             1   \n",
              "3                3           3      4.0   Acar kuning             0   \n",
              "4                4           4      5.0     Agar-agar             0   \n",
              "...            ...         ...      ...           ...           ...   \n",
              "1609          1609        1609   1610.0  Wortel Rebus             0   \n",
              "1610          1610        1610   1611.0  Wortel Segar             0   \n",
              "1611          1611        1611   1612.0        Yangko             0   \n",
              "1612          1612        1612   1613.0       Yoghurt             0   \n",
              "1613          1613        1613      NaN           NaN             0   \n",
              "\n",
              "     Label Sayur Label Buah Label Kacang Bumbu Singkong  ... Label Seafood  \\\n",
              "0              0          0            0     0        0  ...             0   \n",
              "1              1          0            0     0        0  ...             0   \n",
              "2              0          0            0     0        0  ...             0   \n",
              "3              1          0            0     0        0  ...             0   \n",
              "4              0          0            0     0        0  ...             0   \n",
              "...          ...        ...          ...   ...      ...  ...           ...   \n",
              "1609           1          0            0     0        0  ...             0   \n",
              "1610           1          0            0     0        0  ...             0   \n",
              "1611           0          0            0     0        0  ...             0   \n",
              "1612           0          0            0     0        0  ...             0   \n",
              "1613        100%       100%         100%  100%     100%  ...          100%   \n",
              "\n",
              "     Label Tepung Label Kuah Label Pedas Daging Ayam Daging Kambing  \\\n",
              "0               0          0           0           0              0   \n",
              "1               0          0           0           0              0   \n",
              "2               0          0           0           0              0   \n",
              "3               0          0           0           0              0   \n",
              "4               0          0           0           0              0   \n",
              "...           ...        ...         ...         ...            ...   \n",
              "1609            0          1           0           0              0   \n",
              "1610            0          0           0           0              0   \n",
              "1611            1          0           0           0              0   \n",
              "1612            0          0           0           0              0   \n",
              "1613         100%       100%        100%        100%           100%   \n",
              "\n",
              "     Daging Babi Daging Sapi  Ikan  \\\n",
              "0              0           0     0   \n",
              "1              0           0     0   \n",
              "2              0           1     0   \n",
              "3              0           0     0   \n",
              "4              0           0     0   \n",
              "...          ...         ...   ...   \n",
              "1609           0           0     0   \n",
              "1610           0           0     0   \n",
              "1611           0           0     0   \n",
              "1612           0           0     0   \n",
              "1613        100%        100%  100%   \n",
              "\n",
              "                                                  image  \n",
              "0     https://img-cdn.medkomtek.com/PbrY9X3ignQ8sVuj...  \n",
              "1     https://img-global.cpcdn.com/recipes/cbf330fbd...  \n",
              "2     https://img.kurio.network/bBTENwW0CA40Pmyk26Er...  \n",
              "3     https://img-global.cpcdn.com/recipes/23fc7d563...  \n",
              "4     https://res.cloudinary.com/dk0z4ums3/image/upl...  \n",
              "...                                                 ...  \n",
              "1609  https://asset-a.grid.id/crop/0x222:594x690/700...  \n",
              "1610  https://www.astronauts.id/blog/wp-content/uplo...  \n",
              "1611  https://serikatnews.com/wp-content/uploads/202...  \n",
              "1612  https://d1vbn70lmn1nqe.cloudfront.net/prod/wp-...  \n",
              "1613                                                NaN  \n",
              "\n",
              "[1614 rows x 32 columns]"
            ]
          },
          "execution_count": 26,
          "metadata": {},
          "output_type": "execute_result"
        }
      ],
      "source": [
        "data_img"
      ]
    },
    {
      "cell_type": "code",
      "execution_count": 27,
      "metadata": {
        "id": "5dkmbMwXc1fp"
      },
      "outputs": [],
      "source": [
        "new_user_id = 1253\n",
        "liked_food_id = ['03-1164', '01-1164', '64-1469', '68-540', '69-231', '03-198']\n",
        "\n",
        "user_encoder.fit(pd.concat([data['user_id'], pd.Series([new_user_id])]))\n",
        "user_encoder.transform([new_user_id])\n",
        "np.array([food_encoder.transform(liked_food_id)])\n",
        "\n",
        "new_user_model = create_model(embedding_size)\n",
        "\n",
        "new_user_model.compile(optimizer='adam', loss='binary_crossentropy')\n",
        "new_user_embedding_weights  = new_user_model.get_layer('user_embedding').get_weights()[0]\n",
        "user_embedding = new_user_model.get_layer('user_embedding').get_weights()[0]\n",
        "\n",
        "user_embedding /= np.linalg.norm(user_embedding, axis=1, keepdims=True)\n",
        "new_user_embedding_weights /= np.linalg.norm(new_user_embedding_weights, axis=1, keepdims=True)\n"
      ]
    },
    {
      "cell_type": "code",
      "execution_count": 28,
      "metadata": {
        "id": "4jpC6sMT46J1"
      },
      "outputs": [],
      "source": [
        "def get_image_path(food_id):\n",
        "    return data_img.loc[data_img['food_id'] == food_id].reset_index(drop=True)['image'].iloc[0]"
      ]
    },
    {
      "cell_type": "code",
      "execution_count": 29,
      "metadata": {
        "colab": {
          "base_uri": "https://localhost:8080/"
        },
        "id": "SKELj3G_ruLM",
        "outputId": "f02af559-594c-4c56-b7e7-619289a5f067"
      },
      "outputs": [
        {
          "name": "stdout",
          "output_type": "stream",
          "text": [
            "Rekomendasi: Ayam goreng paha\n",
            "Food ID: 58\n",
            "Image Path: https://d1sag4ddilekf6.cloudfront.net/compressed_webp/items/IDITE20210726121341017693/detail/menueditor_item_428cb0ea19e44146a00e1cfbef85faae_1627524568218570621.webp\n",
            "Rekomendasi: Kacang Gude biji muda\n",
            "Food ID: 700\n",
            "Image Path: https://filebroker-cdn.lazada.co.id/kf/S7e8dd05201e2416882c2894863f7f8b6p.jpg\n",
            "Rekomendasi: Ikan layur segar\n",
            "Food ID: 545\n",
            "Image Path: https://ikanwiki.com/gambar/gambar_besar/ikanlay.webp\n",
            "Rekomendasi: Hati ayam goreng\n",
            "Food ID: 475\n",
            "Image Path: https://awsimages.detik.net.id/community/media/visual/2022/02/14/resep-hari-ayam-goreng-ketumbar_43.jpeg?w=1200\n",
            "Rekomendasi: Soto kudus masakan\n",
            "Food ID: 1387\n",
            "Image Path: https://www.masakapahariini.com/wp-content/uploads/2020/02/soto-kudus-7.jpg\n",
            "Rekomendasi: Mangga manalagi\n",
            "Food ID: 1000\n",
            "Image Path: https://asset.kompas.com/crops/lqMd8zhC3HFtV1Vom8TI4oHceOY=/32x20:1000x665/750x500/data/photo/2022/06/15/62a925cdeef37.jpg\n"
          ]
        }
      ],
      "source": [
        "similarity_scores = cosine_similarity(\n",
        "    user_embedding,\n",
        "    new_user_embedding_weights\n",
        ")[0]\n",
        "\n",
        "top_similar_users_indices = np.argsort(similarity_scores)[::-1]\n",
        "\n",
        "liked_items_of_similar_users = data[(data['user_id'].isin(top_similar_users_indices[:6])) & (data['like'] == 1)].drop_duplicates()\n",
        "\n",
        "randomized_rows = liked_items_of_similar_users.sample(frac=1)\n",
        "\n",
        "recommended_randomized_food = randomized_rows[['food_id', 'food_name']].values.tolist()\n",
        "\n",
        "food_id_list = [food_id for food_id, _ in recommended_randomized_food[:6]]\n",
        "food_name_list = [food_name for _,food_name in recommended_randomized_food[:6]]\n",
        "\n",
        "\n",
        "food_id = []\n",
        "resto_id = []\n",
        "for id in food_id_list:\n",
        "  parts = id.split('-')\n",
        "  food_id.append(int(parts[1]))\n",
        "  resto_id.append(int(parts[0]))\n",
        "\n",
        "for id, name in zip(food_id, food_name_list):\n",
        "    image_path = get_image_path(int(id))\n",
        "    print(f'Rekomendasi: {name}')\n",
        "    print(f'Food ID: {int(id)}')\n",
        "    print(f'Image Path: {image_path}')"
      ]
    },
    {
      "cell_type": "code",
      "execution_count": 30,
      "metadata": {
        "colab": {
          "base_uri": "https://localhost:8080/"
        },
        "id": "HiD8q4fC3F-Y",
        "outputId": "55215dd0-1ca4-43c9-bde2-f6d92c29ed1d"
      },
      "outputs": [
        {
          "data": {
            "text/plain": [
              "[58, 700, 545, 475, 1387, 1000]"
            ]
          },
          "execution_count": 30,
          "metadata": {},
          "output_type": "execute_result"
        }
      ],
      "source": [
        "food_id"
      ]
    },
    {
      "cell_type": "code",
      "execution_count": 31,
      "metadata": {
        "colab": {
          "base_uri": "https://localhost:8080/"
        },
        "id": "AO2gwoXh2aAa",
        "outputId": "7460bb60-8d04-47cf-9376-04fb08ada31e"
      },
      "outputs": [
        {
          "data": {
            "text/plain": [
              "['Ayam goreng paha',\n",
              " 'Kacang Gude biji muda',\n",
              " 'Ikan layur segar',\n",
              " 'Hati ayam goreng',\n",
              " 'Soto kudus masakan',\n",
              " 'Mangga manalagi']"
            ]
          },
          "execution_count": 31,
          "metadata": {},
          "output_type": "execute_result"
        }
      ],
      "source": [
        "food_name_list"
      ]
    },
    {
      "cell_type": "code",
      "execution_count": null,
      "metadata": {
        "id": "wUrZAtYg735A"
      },
      "outputs": [],
      "source": []
    }
  ],
  "metadata": {
    "colab": {
      "collapsed_sections": [
        "ctcFtCkrwAwb",
        "dPDumC_sSgy8",
        "5zymHmplcHL7",
        "bOmcvycqwwcB"
      ],
      "provenance": []
    },
    "kernelspec": {
      "display_name": "Python 3",
      "name": "python3"
    },
    "language_info": {
      "name": "python"
    }
  },
  "nbformat": 4,
  "nbformat_minor": 0
}
